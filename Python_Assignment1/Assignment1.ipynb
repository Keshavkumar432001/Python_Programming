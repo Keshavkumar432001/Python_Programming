{
 "cells": [
  {
   "cell_type": "markdown",
   "id": "5b9e9435-4356-4a25-8b0c-28bdd2a4e084",
   "metadata": {},
   "source": [
    "## Write a Python program to get a list, sorted in increasing order by the last element in each tuple from a given list of non-empty tuples."
   ]
  },
  {
   "cell_type": "code",
   "execution_count": 5,
   "id": "6d80285d-c90f-497c-b945-a870d2edebee",
   "metadata": {},
   "outputs": [
    {
     "name": "stdout",
     "output_type": "stream",
     "text": [
      "List Before Sort:  [(2, 5), (1, 2), (4, 4), (2, 3), (2, 1)]\n",
      "List After Sort:  [(2, 1), (1, 2), (2, 3), (4, 4), (2, 5)]\n"
     ]
    }
   ],
   "source": [
    "def last_tup(list1):\n",
    "    return list1[-1]\n",
    "\n",
    "def sorted_by_last(list1):\n",
    "    list2 = sorted(list1, key = last_tup)\n",
    "    return list2\n",
    "    \n",
    "list1 = [(2,5), (1,2), (4,4), (2,3), (2,1)]\n",
    "res_list = sorted_by_last(list1)\n",
    "print(\"List Before Sort: \",list1)\n",
    "print(\"List After Sort: \",res_list)    "
   ]
  },
  {
   "cell_type": "markdown",
   "id": "4ba967c5-8512-4413-a755-b6a0d86fa605",
   "metadata": {},
   "source": [
    "## Write a Python program to get a string from a given string where all occurrences of its first char have been changes to '$', except the first itselfs."
   ]
  },
  {
   "cell_type": "code",
   "execution_count": 12,
   "id": "92732b29-3301-4323-b11c-a36797a51e63",
   "metadata": {},
   "outputs": [
    {
     "name": "stdout",
     "output_type": "stream",
     "text": [
      "Original String:  restart\n",
      "Changed String:  resta$t\n"
     ]
    }
   ],
   "source": [
    "def char_replace(str1):\n",
    "    first_char = str1[0]\n",
    "    changed_string = (f\"{first_char}{str1[1:].replace(first_char , '$')}\")\n",
    "    return changed_string\n",
    "    \n",
    "string = 'restart'\n",
    "res_string = char_replace(string)\n",
    "print(\"Original String: \",string)\n",
    "print(\"Changed String: \",res_string)"
   ]
  },
  {
   "cell_type": "markdown",
   "id": "0fdaf02e-6d4c-4071-9647-3dff6c554475",
   "metadata": {},
   "source": [
    "## Write a Python program to find the first appearance of the substring 'not' and 'poor' from a given string, if 'not' follows the 'poor', replace the whole 'not'...'poor' substring with 'good'.Return the resulting string."
   ]
  },
  {
   "cell_type": "code",
   "execution_count": 17,
   "id": "3c2f7768-ef8e-42c8-b54c-b49242117c1c",
   "metadata": {},
   "outputs": [
    {
     "name": "stdout",
     "output_type": "stream",
     "text": [
      "Sample String:  The lyrics is not that poor!\n",
      "Output String:  The lyrics is good!\n"
     ]
    }
   ],
   "source": [
    "def replace_not_poor(string):\n",
    "    first_position_not = string.find('not')\n",
    "    first_position_poor = string.find('poor')\n",
    "\n",
    "    if (first_position_not != -1 and first_position_poor != -1 and first_position_not < first_position_poor):\n",
    "        new_string = f\"{string[:first_position_not]}good{string[first_position_poor+len('poor') : ]}\"\n",
    "        return new_string\n",
    "    else:\n",
    "        return string\n",
    "\n",
    "sample_string = 'The lyrics is not that poor!'\n",
    "result_string = replace_not_poor(sample_string)\n",
    "print(\"Sample String: \",sample_string)\n",
    "print(\"Output String: \",result_string)"
   ]
  },
  {
   "cell_type": "markdown",
   "id": "f9927fcb-47f0-4bad-8758-252736efa138",
   "metadata": {},
   "source": [
    "## Write a Python program to sort a dictionary by value."
   ]
  },
  {
   "cell_type": "code",
   "execution_count": 27,
   "id": "15e3be74-27b8-40cc-ac50-b3b43e3197c7",
   "metadata": {},
   "outputs": [
    {
     "name": "stdout",
     "output_type": "stream",
     "text": [
      "Following below are the names and prices per kg of fruits:\n",
      " {'apple': 60, 'banana': 40, 'dragon fruit': 100, 'orange': 50}\n",
      "Fruits after sort by prices:\n",
      " {'banana': 40, 'orange': 50, 'apple': 60, 'dragon fruit': 100}\n"
     ]
    }
   ],
   "source": [
    "def sort_by_value(fruit_price_dict):\n",
    "    return fruit_price_dict[1]\n",
    "    \n",
    "\n",
    "def sort_by_price(price_dict):\n",
    "    sorted_dic_by_price = sorted(price_dict.items() , key = sort_by_value)\n",
    "    return sorted_dic_by_price\n",
    "\n",
    "fruit_price_dict = {'apple' : 60,\n",
    "                    'banana' : 40,\n",
    "                    'dragon fruit' : 100,\n",
    "                    'orange': 50                   \n",
    "                   }\n",
    "\n",
    "sorted_price = sort_by_price(fruit_price_dict)\n",
    "\n",
    "print(\"Following below are the names and prices per kg of fruits:\\n\",fruit_price_dict)\n",
    "print(\"Fruits after sort by prices:\\n\",dict(sorted_price))\n"
   ]
  },
  {
   "cell_type": "markdown",
   "id": "60940c05-cdbb-46c0-a2b6-963494efc258",
   "metadata": {},
   "source": [
    "## Write a Python program to add key to a dictionary."
   ]
  },
  {
   "cell_type": "code",
   "execution_count": 37,
   "id": "2a9a8ced-d513-4376-a4f0-f4e3d3151aa3",
   "metadata": {},
   "outputs": [
    {
     "name": "stdout",
     "output_type": "stream",
     "text": [
      "Some Indian Cricket Player Names With There ODI Ranking:\n",
      " {'Shubman Gill': 'Rank-1', 'Virat Kohli': 'Rank-4'}\n",
      "After Adding More Player Names With There Ranking:\n",
      " {'Shubman Gill': 'Rank-1', 'Virat Kohli': 'Rank-4', 'Rohit Sharma': 'Rank-1', 'Jasprit Bhumrah': 'Rank-5'}\n"
     ]
    }
   ],
   "source": [
    "ind_crick_play_rank_dict = {\n",
    "    'Shubman Gill' : 'Rank-1',\n",
    "    'Virat Kohli' : 'Rank-4'\n",
    "}\n",
    "\n",
    "print(\"Some Indian Cricket Player Names With There ODI Ranking:\\n\",ind_crick_play_rank_dict)\n",
    "#Adding Key And Value In Dictionary\n",
    "new_key1 = 'Rohit Sharma'\n",
    "new_value1 = 'Rank-1'\n",
    "\n",
    "new_key2 = 'Jasprit Bhumrah'\n",
    "new_value2 = 'Rank-5'\n",
    "\n",
    "ind_crick_play_rank_dict[new_key1] = new_value1\n",
    "ind_crick_play_rank_dict[new_key2] = new_value2\n",
    "\n",
    "print(\"After Adding More Player Names With There Ranking:\\n\",ind_crick_play_rank_dict)"
   ]
  }
 ],
 "metadata": {
  "kernelspec": {
   "display_name": "Python [conda env:base] *",
   "language": "python",
   "name": "conda-base-py"
  },
  "language_info": {
   "codemirror_mode": {
    "name": "ipython",
    "version": 3
   },
   "file_extension": ".py",
   "mimetype": "text/x-python",
   "name": "python",
   "nbconvert_exporter": "python",
   "pygments_lexer": "ipython3",
   "version": "3.13.5"
  }
 },
 "nbformat": 4,
 "nbformat_minor": 5
}
