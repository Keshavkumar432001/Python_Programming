{
 "cells": [
  {
   "cell_type": "markdown",
   "id": "cf1313f3-8f8e-4c17-b56e-bae9c113980f",
   "metadata": {
    "vscode": {
     "languageId": "python"
    }
   },
   "source": [
    "## Q1) Generate all prime numbers less than 100.Print them in a spiral format (like a clockwise square spiral) of minimal size that fits all primes."
   ]
  },
  {
   "cell_type": "code",
   "execution_count": 7,
   "id": "08ca6b82",
   "metadata": {
    "vscode": {
     "languageId": "python"
    }
   },
   "outputs": [
    {
     "name": "stdout",
     "output_type": "stream",
     "text": [
      " 2  3  5  7 11\n",
      "53 59 61 67 13\n",
      "47 89 97 71 17\n",
      "43 83 79 73 19\n",
      "41 37 31 29 23\n"
     ]
    }
   ],
   "source": [
    "primes = []\n",
    "for num in range(2, 100):\n",
    "    for i in range(2, int(num**0.5)+1):\n",
    "        if num % i == 0:\n",
    "            break\n",
    "    else:\n",
    "        primes.append(num)\n",
    "n = 5\n",
    "grid = [[0]*n for _ in range(n)]\n",
    "top, bottom = 0, n-1\n",
    "left, right = 0, n-1\n",
    "index = 0\n",
    "\n",
    "while index < len(primes):\n",
    "    for i in range(left, right+1):\n",
    "        grid[top][i] = primes[index]\n",
    "        index += 1\n",
    "    top += 1\n",
    "\n",
    "    for i in range(top, bottom+1):\n",
    "        grid[i][right] = primes[index]\n",
    "        index += 1\n",
    "    right -= 1\n",
    "\n",
    "    for i in range(right, left-1, -1):\n",
    "        grid[bottom][i] = primes[index]\n",
    "        index += 1\n",
    "    bottom -= 1\n",
    "\n",
    "    for i in range(bottom, top-1, -1):\n",
    "        grid[i][left] = primes[index]\n",
    "        index += 1\n",
    "    left += 1\n",
    "    \n",
    "for row in grid:\n",
    "    print(\" \".join(f\"{x:2}\" for x in row))"
   ]
  },
  {
   "cell_type": "markdown",
   "id": "49679154-05c8-4106-b2b5-d6acff3b6efb",
   "metadata": {},
   "source": [
    "## Q2) You are a data analyst at a streaming platform, managing user interactions, analytics, and daily operations. Use a for loop to create a text-based graph of hourly views. For example, use * to represent every 5 views."
   ]
  },
  {
   "cell_type": "code",
   "execution_count": 5,
   "id": "5b6470ee-5cea-4fb0-9219-aef03f05dd17",
   "metadata": {},
   "outputs": [
    {
     "name": "stdout",
     "output_type": "stream",
     "text": [
      "Hourly Views Graph (1 * = 5 views):\n",
      "\n",
      "Hour 00: **\n",
      "Hour 01: ****\n",
      "Hour 02: ***\n",
      "Hour 03: *\n",
      "Hour 04: ******\n",
      "Hour 05: *****\n",
      "Hour 06: ***\n",
      "Hour 07: ****\n",
      "Hour 08: **\n",
      "Hour 09: *****\n",
      "Hour 10: ****\n",
      "Hour 11: *******\n"
     ]
    }
   ],
   "source": [
    "hourly_views = [13, 21, 15, 7, 31, 29, 19, 20, 12, 27, 21, 35]\n",
    "\n",
    "print(\"Hourly Views Graph (1 * = 5 views):\\n\")\n",
    "\n",
    "for hour, views in enumerate(hourly_views):\n",
    "    stars = '*' * (views // 5)\n",
    "    print(f\"Hour {hour:02}: {stars}\")"
   ]
  },
  {
   "cell_type": "markdown",
   "id": "fce5c284-6229-4661-b86a-fdcfbd77a8e1",
   "metadata": {},
   "source": [
    "## Q3) Each video watched generates revenue based on ad impressions:\n",
    "## First 10 views: 0.50 per view\n",
    "## Next 20 views: 0.30 per view\n",
    "## Remaining views: 0.10 per view\n",
    "## You are given hourly views for the day. Calculate total daily revenue.\n"
   ]
  },
  {
   "cell_type": "code",
   "execution_count": 6,
   "id": "02bb63dc-d4e3-4de9-a894-4cd7c5b890c2",
   "metadata": {},
   "outputs": [
    {
     "name": "stdout",
     "output_type": "stream",
     "text": [
      "Total daily revenue: $173.70\n"
     ]
    }
   ],
   "source": [
    "hourly_views = [25, 22, 12, 2, 4, 33, 5, 20, 24, 15, 14, 13, 27, 17, 19, 18, 34, 16, 9, 14, 29, 17, 27, 21]\n",
    "\n",
    "total_revenue = 0\n",
    "\n",
    "for views in hourly_views:\n",
    "    revenue = 0\n",
    "    if views <= 10:\n",
    "        revenue = views * 0.50\n",
    "    elif views <= 30:\n",
    "        revenue = 10 * 0.50 + (views - 10) * 0.30\n",
    "    else:\n",
    "        revenue = 10 * 0.50 + 20 * 0.30 + (views - 30) * 0.10\n",
    "    total_revenue += revenue\n",
    "\n",
    "print(f\"Total daily revenue: ${total_revenue:.2f}\")"
   ]
  }
 ],
 "metadata": {
  "kernelspec": {
   "display_name": "Python [conda env:base] *",
   "language": "python",
   "name": "conda-base-py"
  },
  "language_info": {
   "codemirror_mode": {
    "name": "ipython",
    "version": 3
   },
   "file_extension": ".py",
   "mimetype": "text/x-python",
   "name": "python",
   "nbconvert_exporter": "python",
   "pygments_lexer": "ipython3",
   "version": "3.13.5"
  }
 },
 "nbformat": 4,
 "nbformat_minor": 5
}
