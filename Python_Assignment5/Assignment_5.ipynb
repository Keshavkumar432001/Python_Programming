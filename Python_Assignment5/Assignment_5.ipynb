{
 "cells": [
  {
   "cell_type": "markdown",
   "id": "18e42d0a-477d-47cf-9e90-403f673634d0",
   "metadata": {},
   "source": [
    "# Q1 Printing Pattern"
   ]
  },
  {
   "cell_type": "code",
   "execution_count": 11,
   "id": "775e4813-12e9-45c8-b607-3082decf6346",
   "metadata": {},
   "outputs": [
    {
     "name": "stdin",
     "output_type": "stream",
     "text": [
      "Enter the number of rows 5\n"
     ]
    },
    {
     "name": "stdout",
     "output_type": "stream",
     "text": [
      "A \n",
      "A B \n",
      "A B C \n",
      "A B C D \n",
      "A B C D E \n"
     ]
    }
   ],
   "source": [
    "rows = int(input(\"Enter the number of rows\"))\n",
    "for i in range(rows):\n",
    "    ch = 65\n",
    "    for j in range(i+1):\n",
    "        print(chr(ch),end=\" \")\n",
    "        ch+=1\n",
    "    print()"
   ]
  },
  {
   "cell_type": "markdown",
   "id": "72de2337-16f2-4574-a26c-01986b6ca256",
   "metadata": {},
   "source": [
    "# Q2 Write a program that encrypts some message by adding a key value to every character. "
   ]
  },
  {
   "cell_type": "code",
   "execution_count": 27,
   "id": "4f68cf8b-3623-44e6-9f3b-063df518a968",
   "metadata": {},
   "outputs": [
    {
     "name": "stdout",
     "output_type": "stream",
     "text": [
      "Original Text: HELLOWORLD\n",
      "Encrypted Text: KHOORZRUOG\n"
     ]
    }
   ],
   "source": [
    "text = \"HELLOWORLD\"\n",
    "key = 3\n",
    "encrypted_text = \"\"\n",
    "for char in text:\n",
    "    encrypted_text += chr(ord(char) + key)\n",
    "print(\"Original Text:\",text)\n",
    "print(\"Encrypted Text:\",encrypted_text)"
   ]
  },
  {
   "cell_type": "markdown",
   "id": "56f787e5-70ae-4e58-b247-d8191b6baaae",
   "metadata": {},
   "source": [
    "# Q3 Write a program that finds whether a given character is present in a string or not, if present then print the index without using inbuilt functions."
   ]
  },
  {
   "cell_type": "code",
   "execution_count": 31,
   "id": "145d641d-7cbf-4107-b6bf-25a851e5b02b",
   "metadata": {},
   "outputs": [
    {
     "name": "stdin",
     "output_type": "stream",
     "text": [
      "Enter a string:  Hello World!\n",
      "Enter a character:  l\n"
     ]
    },
    {
     "name": "stdout",
     "output_type": "stream",
     "text": [
      "Character 'l' found at index 2\n"
     ]
    }
   ],
   "source": [
    "text = input(\"Enter a string: \")\n",
    "char = input(\"Enter a character: \")\n",
    "present = False\n",
    "for i in range(len(text)):\n",
    "    if text[i] == char:\n",
    "        print(f\"Character '{char}' found at index {i}\")\n",
    "        present = True\n",
    "        break \n",
    "if not present:\n",
    "    print(f\"Character '{char}' is not present in the string.\")"
   ]
  },
  {
   "cell_type": "markdown",
   "id": "82bb8502-458c-4989-849c-a669647898d5",
   "metadata": {},
   "source": [
    "# Q4 Write a program that counts the occurences of the character in that string without using inbuilt function."
   ]
  },
  {
   "cell_type": "code",
   "execution_count": 37,
   "id": "98638b7b-e017-43d6-91ce-7b80234c7794",
   "metadata": {},
   "outputs": [
    {
     "name": "stdin",
     "output_type": "stream",
     "text": [
      "Enter a string:  Hello world\n",
      "Enter a character:  l\n"
     ]
    },
    {
     "name": "stdout",
     "output_type": "stream",
     "text": [
      "Character 'l' occurs 3 times in the string.\n"
     ]
    }
   ],
   "source": [
    "text = input(\"Enter a string: \")\n",
    "char = input(\"Enter a character: \")\n",
    "count = 0 \n",
    "for c in text:\n",
    "    if c == char:\n",
    "        count += 1\n",
    "print(f\"Character '{char}' occurs {count} times in the string.\")"
   ]
  },
  {
   "cell_type": "markdown",
   "id": "504aec8a-a7a4-40ac-aa02-2b192b144604",
   "metadata": {},
   "source": [
    "# Q5 Write a Function to get a string that made up of four copies of last two characters of specified string,the length must be atleast two."
   ]
  },
  {
   "cell_type": "code",
   "execution_count": 39,
   "id": "a6824665-9b87-4d5e-9762-b27a584b1219",
   "metadata": {},
   "outputs": [
    {
     "name": "stdin",
     "output_type": "stream",
     "text": [
      "Enter a string:  code\n"
     ]
    },
    {
     "name": "stdout",
     "output_type": "stream",
     "text": [
      "Result: dededede\n"
     ]
    }
   ],
   "source": [
    "def last_two_copies(s):\n",
    "    if len(s) < 2:\n",
    "        return \"Error: String length must be at least two\"   \n",
    "    last_two = s[-2:]     \n",
    "    return last_two * 4      \n",
    "text = input(\"Enter a string: \")\n",
    "result = last_two_copies(text)\n",
    "print(\"Result:\", result)"
   ]
  },
  {
   "cell_type": "markdown",
   "id": "67ea58eb-a367-48c4-ac34-a61f03383245",
   "metadata": {},
   "source": [
    "# Q6 Write a function to reverse a string if its length is multiple of four."
   ]
  },
  {
   "cell_type": "code",
   "execution_count": 43,
   "id": "5e8b3e17-1d65-4e10-9540-5767f5380483",
   "metadata": {},
   "outputs": [
    {
     "name": "stdin",
     "output_type": "stream",
     "text": [
      "Enter a string:  four\n"
     ]
    },
    {
     "name": "stdout",
     "output_type": "stream",
     "text": [
      "ruof\n"
     ]
    }
   ],
   "source": [
    "def reverse(s):\n",
    "    if len(s) % 4 == 0:\n",
    "        return s[::-1]\n",
    "    else:\n",
    "        return s     \n",
    "text = input(\"Enter a string: \") \n",
    "print(reverse(text))    "
   ]
  },
  {
   "cell_type": "markdown",
   "id": "d29759af-3b85-4d20-b1dd-3c0a8ab9b0c7",
   "metadata": {},
   "source": [
    "# Q7 WAP to Check if string has at least one vowel."
   ]
  },
  {
   "cell_type": "code",
   "execution_count": 4,
   "id": "7c7ca49b-bae5-4d54-a77d-9c901eb763b0",
   "metadata": {},
   "outputs": [
    {
     "name": "stdin",
     "output_type": "stream",
     "text": [
      "Enter string:  hello\n"
     ]
    },
    {
     "name": "stdout",
     "output_type": "stream",
     "text": [
      "Contains vowel: True\n"
     ]
    }
   ],
   "source": [
    "def vowel(str1):\n",
    "    vowels = \"aeiouAEIOU\"\n",
    "    for c in str1:\n",
    "        if c in vowels:\n",
    "            return True\n",
    "    return False\n",
    "\n",
    "str1 = input(\"Enter string: \")\n",
    "print(\"Contains vowel:\" ,vowel(str1))"
   ]
  },
  {
   "cell_type": "markdown",
   "id": "cf91d4f1-717f-4127-9772-9a6d4e5a7c3e",
   "metadata": {},
   "source": [
    "# Q8 WAP that uses Regular expression to match strings starting with digits, followed by space, then arbitrary characters"
   ]
  },
  {
   "cell_type": "code",
   "execution_count": 9,
   "id": "166cd871-217c-488c-884a-b2c3786c060a",
   "metadata": {},
   "outputs": [
    {
     "name": "stdin",
     "output_type": "stream",
     "text": [
      "Enter string to check regex pattern:  3 D\n"
     ]
    },
    {
     "name": "stdout",
     "output_type": "stream",
     "text": [
      "Matches pattern: True\n"
     ]
    }
   ],
   "source": [
    "import re\n",
    "def match_pat(str2):\n",
    "    pattern = r'^\\d+ .+'\n",
    "    return bool(re.match(pattern, str2))\n",
    "\n",
    "str2 = input(\"Enter string to check regex pattern: \")\n",
    "print(\"Matches pattern:\", match_pat(str2))"
   ]
  },
  {
   "cell_type": "markdown",
   "id": "82562c3c-85aa-41de-9300-4c586bfd0195",
   "metadata": {},
   "source": [
    "# Q9 WAP to print first two characters of every word using both simple way as well as using regular expression."
   ]
  },
  {
   "cell_type": "code",
   "execution_count": 11,
   "id": "74191606-f12c-4509-add3-8c2d3e88f1fd",
   "metadata": {},
   "outputs": [
    {
     "name": "stdin",
     "output_type": "stream",
     "text": [
      "Enter string:  Hello everyone how are you\n"
     ]
    },
    {
     "name": "stdout",
     "output_type": "stream",
     "text": [
      "First two characters using simple way: ['He', 'ev', 'ho', 'ar', 'yo']\n",
      "First two characters using regular expression: ['He', 'ev', 'ho', 'ar', 'yo']\n"
     ]
    }
   ],
   "source": [
    "def first_two_chars_simple(s):\n",
    "    words = s.split()\n",
    "    return [w[:2] for w in words]\n",
    "\n",
    "def first_two_chars_regex(s):\n",
    "    return re.findall(r'\\b(\\w{1,2})', s)\n",
    "\n",
    "str3 = input(\"Enter string: \")\n",
    "print(\"First two characters using simple way:\", first_two_chars_simple(str3))\n",
    "print(\"First two characters using regular expression:\", first_two_chars_regex(str3))"
   ]
  }
 ],
 "metadata": {
  "kernelspec": {
   "display_name": "Python 3 (ipykernel)",
   "language": "python",
   "name": "python3"
  },
  "language_info": {
   "codemirror_mode": {
    "name": "ipython",
    "version": 3
   },
   "file_extension": ".py",
   "mimetype": "text/x-python",
   "name": "python",
   "nbconvert_exporter": "python",
   "pygments_lexer": "ipython3",
   "version": "3.13.5"
  }
 },
 "nbformat": 4,
 "nbformat_minor": 5
}
