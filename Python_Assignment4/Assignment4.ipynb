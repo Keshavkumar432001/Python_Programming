{
 "cells": [
  {
   "cell_type": "markdown",
   "id": "857081d3-a9c1-491e-b5ee-2b8f454b2a7a",
   "metadata": {},
   "source": [
    "## 1. Write a Python function find_smallest_multiple(n: int) that uses a while loop to find the smallest positive integer x such that x is divisible by all numbers from 1 to n.  \n",
    "## Conditions:  \n",
    "## i.The function should keep incrementing x by 1 until it finds a number that satisfies the condition.  \n",
    "## ii.Your solution should handle the edge case where n = 1 efficiently, returning 1 directly since 1 is divisible by itself. "
   ]
  },
  {
   "cell_type": "code",
   "execution_count": 1,
   "id": "f526b2ed-7a38-4912-9571-e9fb847c7f03",
   "metadata": {},
   "outputs": [
    {
     "name": "stdin",
     "output_type": "stream",
     "text": [
      "Enter the number: 5\n"
     ]
    },
    {
     "data": {
      "text/plain": [
       "60"
      ]
     },
     "execution_count": 1,
     "metadata": {},
     "output_type": "execute_result"
    }
   ],
   "source": [
    "def find_smallest_multiple(n: int) -> int:\n",
    "    # Condition ii. Handle the edge case where n = 1\n",
    "    if n == 1:\n",
    "        return 1\n",
    "\n",
    "    x = n\n",
    "    while True:\n",
    "        is_divisible = True\n",
    "        for i in range(1, n + 1):\n",
    "            if x % i != 0:\n",
    "                is_divisible = False\n",
    "                break\n",
    "        \n",
    "        if is_divisible:\n",
    "            return x  # Found the smallest multiple\n",
    "        \n",
    "        x += 1  # Condition i. Increment x by 1\n",
    "num = int(input(\"Enter the number:\"))  \n",
    "find_smallest_multiple(num)"
   ]
  },
  {
   "cell_type": "markdown",
   "id": "86b7c8a7-348c-4aee-9f8a-952a7a318bee",
   "metadata": {},
   "source": [
    "## 2. Write a function cubesum() that accepts an integer and returns the sum of the cubes of individual digits of that number. Use this function to make functions PrintArmstrong() and isArmstrong() to print Armstrong numbers and to find whether is an Armstrong number."
   ]
  },
  {
   "cell_type": "code",
   "execution_count": 2,
   "id": "29e569e2-ae12-4d9d-8b8a-5a39b9f01932",
   "metadata": {},
   "outputs": [
    {
     "name": "stdin",
     "output_type": "stream",
     "text": [
      "Enter three digit number: 153\n"
     ]
    },
    {
     "name": "stdout",
     "output_type": "stream",
     "text": [
      "The number 153 is armstrong\n"
     ]
    }
   ],
   "source": [
    "def cubesum(n):\n",
    "    sum = 0\n",
    "    while(n>0):\n",
    "        cusum = (n%10) ** 3\n",
    "        sum +=cusum\n",
    "        n //= 10\n",
    "    return sum\n",
    "def isArmstrong(n):\n",
    "    return n == cubesum(n)\n",
    "\n",
    "def PrintArmstrong(num):\n",
    "    print(f\"The number {num} is armstrong\")\n",
    "    \n",
    "n = int(input(\"Enter three digit number:\"))\n",
    "\n",
    "if isArmstrong(n):\n",
    "    PrintArmstrong(n)  \n",
    "else:\n",
    "    print(\"The number is not armstrong\")   "
   ]
  },
  {
   "cell_type": "markdown",
   "id": "82416985-a757-4cd0-97b5-38c7026e1a58",
   "metadata": {},
   "source": [
    "## 3. Why is operator precedence important? Give an example where neglecting precedence changes the result. "
   ]
  },
  {
   "cell_type": "code",
   "execution_count": 3,
   "id": "b0a7d8e3-0a9b-4171-949a-90f208faee36",
   "metadata": {},
   "outputs": [
    {
     "name": "stdout",
     "output_type": "stream",
     "text": [
      "Result with precedence: 20\n",
      "Result when neglecting precedence: 30\n"
     ]
    }
   ],
   "source": [
    "# ->Operator precedence is important because it decides the order in which operations are carried out in an expression.\n",
    "# ->Without precedence rules, the same expression could be interpreted in multiple ways, leading to different and incorrect results.\n",
    "# ->Precedence ensures consistency and avoids ambiguity when an expression contains more than one type of operator (like +, *, /, **).\n",
    "# ->If programmers ignore precedence, the program may produce unexpected or wrong outputs.\n",
    "\n",
    "# Without parentheses, Python follows operator precedence\n",
    "a = 10 + 5 * 2   # According to the precedence rule Multiplication happens first \n",
    "print(\"Result with precedence:\", a)\n",
    "\n",
    "# Forcing different order using parentheses\n",
    "b = (10 + 5) * 2  # Addition happens first\n",
    "print(\"Result when neglecting precedence:\", b)\n"
   ]
  },
  {
   "cell_type": "markdown",
   "id": "b2a2fe65-2c18-4781-962c-04e9e8f550ef",
   "metadata": {},
   "source": [
    "## 4. Write a program to input a decimal number and print its equivalent binary, octal, and hexadecimal using operators."
   ]
  },
  {
   "cell_type": "code",
   "execution_count": 4,
   "id": "5e443ccc-3b74-4b1b-8b14-02a7f35c7594",
   "metadata": {},
   "outputs": [
    {
     "name": "stdin",
     "output_type": "stream",
     "text": [
      "Enter a number: 15\n"
     ]
    },
    {
     "name": "stdout",
     "output_type": "stream",
     "text": [
      "Binary: 1111\n",
      "Octal: 17\n",
      "Hexadecimal: F\n"
     ]
    }
   ],
   "source": [
    "def decimal_to_binary(n):\n",
    "    if n == 0:\n",
    "        return \"0\"\n",
    "    result = \"\"\n",
    "    while n > 0:\n",
    "        result = str(n % 2) + result\n",
    "        n //= 2\n",
    "    return result\n",
    "\n",
    "def decimal_to_octal(n):\n",
    "    if n == 0:\n",
    "        return \"0\"\n",
    "    result = \"\"\n",
    "    while n > 0:\n",
    "        result = str(n % 8) + result\n",
    "        n //= 8\n",
    "    return result\n",
    "\n",
    "def decimal_to_hexadecimal(n):\n",
    "    if n == 0:\n",
    "        return \"0\"\n",
    "    hex_digits = \"0123456789ABCDEF\"\n",
    "    result = \"\"\n",
    "    while n > 0:\n",
    "        result = hex_digits[n % 16] + result\n",
    "        n //= 16\n",
    "    return result\n",
    "\n",
    "num = int(input(\"Enter a number:\"))\n",
    "\n",
    "print(\"Binary:\",decimal_to_binary(num))\n",
    "print(\"Octal:\",decimal_to_octal(num))\n",
    "print(\"Hexadecimal:\",decimal_to_hexadecimal(num))"
   ]
  },
  {
   "cell_type": "markdown",
   "id": "7c29e8d0-a12a-4160-873c-f4500a7500ad",
   "metadata": {},
   "source": [
    "## 5. Write a Python function to create and print a list where the values are the squares of numbers between 1 and 30 (both included)."
   ]
  },
  {
   "cell_type": "code",
   "execution_count": 5,
   "id": "d1c98e79-9171-47f5-942b-22838a9522c7",
   "metadata": {},
   "outputs": [
    {
     "name": "stdout",
     "output_type": "stream",
     "text": [
      "[1, 4, 9, 16, 25, 36, 49, 64, 81, 100, 121, 144, 169, 196, 225, 256, 289, 324, 361, 400, 441, 484, 529, 576, 625, 676, 729, 784, 841, 900]\n"
     ]
    }
   ],
   "source": [
    "def sq_list():\n",
    "    list1=[(i ** 2) for i in range(1,31)]\n",
    "    print(list1)\n",
    "sq_list()    "
   ]
  },
  {
   "cell_type": "markdown",
   "id": "1d0fa2c9-3f82-492f-8235-ab5c6f75a0b6",
   "metadata": {},
   "source": [
    "## 6. Write a program that takes a sentence as input and counts the frequency of vowels, consonants, digits, and special characters separately  "
   ]
  },
  {
   "cell_type": "code",
   "execution_count": 6,
   "id": "68045e07-02c0-46e4-ae9c-b64bdcfefc7e",
   "metadata": {},
   "outputs": [
    {
     "name": "stdin",
     "output_type": "stream",
     "text": [
      "Enter the sentence: Hello! World99\n"
     ]
    },
    {
     "name": "stdout",
     "output_type": "stream",
     "text": [
      "Vowels:3\n",
      "Consonent:7\n",
      "Digits:2\n",
      "Special_Char:1\n"
     ]
    }
   ],
   "source": [
    "def count(sent):\n",
    "    vowels=0\n",
    "    consonent=0\n",
    "    digits=0\n",
    "    special_char=0\n",
    "    \n",
    "    for ch in sent:\n",
    "        if (('a' <= ch <= 'z') or ('A' <= ch <= 'Z')):\n",
    "           if ch in 'aeiouAEIOU':\n",
    "               vowels += 1\n",
    "           else:\n",
    "               consonent += 1\n",
    "        elif '0'<= ch <='9':\n",
    "            digits += 1\n",
    "        elif ch != ' ':\n",
    "            special_char+=1\n",
    "\n",
    "    print(f\"Vowels:{vowels}\\nConsonent:{consonent}\\nDigits:{digits}\\nSpecial_Char:{special_char}\")\n",
    "\n",
    "sent = input(\"Enter the sentence:\")\n",
    "count(sent)"
   ]
  },
  {
   "cell_type": "markdown",
   "id": "3b3f5259-3294-4c22-9085-433267a540b2",
   "metadata": {},
   "source": [
    "## 7. Write a Python program to create a dictionary of students’ names as keys and their marks as values. Then: \n",
    "## A. Print the student with the highest marks \n",
    "## B. Print the student with the lowest marks"
   ]
  },
  {
   "cell_type": "code",
   "execution_count": 7,
   "id": "fae1a5d7-4e1f-4ddb-aedf-b3449cc8b544",
   "metadata": {},
   "outputs": [
    {
     "name": "stdout",
     "output_type": "stream",
     "text": [
      "Student Abhay with the highest marks 92\n",
      "Student Alok with the lowest marks 79\n"
     ]
    }
   ],
   "source": [
    "dict_student = {\n",
    "    \"Anurag\": 87,\n",
    "    \"Anuj\": 82,\n",
    "    \"Alok\": 79,\n",
    "    \"Abhay\": 92 \n",
    "}\n",
    "high_mark = -1\n",
    "st_name = ''\n",
    "low_mark = 101\n",
    "st1_name = ''\n",
    "\n",
    "for name,mark in dict_student.items():\n",
    "    if mark> high_mark:\n",
    "        high_mark = mark\n",
    "        st_name=name\n",
    "for name,mark in dict_student.items():\n",
    "    if mark < low_mark:\n",
    "        low_mark = mark\n",
    "        st1_name=name       \n",
    "print(f\"Student {st_name} with the highest marks {high_mark}\")\n",
    "print(f\"Student {st1_name} with the lowest marks {low_mark}\")"
   ]
  }
 ],
 "metadata": {
  "kernelspec": {
   "display_name": "Python 3 (ipykernel)",
   "language": "python",
   "name": "python3"
  },
  "language_info": {
   "codemirror_mode": {
    "name": "ipython",
    "version": 3
   },
   "file_extension": ".py",
   "mimetype": "text/x-python",
   "name": "python",
   "nbconvert_exporter": "python",
   "pygments_lexer": "ipython3",
   "version": "3.13.5"
  }
 },
 "nbformat": 4,
 "nbformat_minor": 5
}
