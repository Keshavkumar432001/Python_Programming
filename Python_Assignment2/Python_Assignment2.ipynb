{
 "cells": [
  {
   "cell_type": "markdown",
   "id": "d8434c1b-b886-409c-bc8e-6850ac3a4286",
   "metadata": {},
   "source": [
    "## Write a program to check whether a given number is positive, negative, or zero."
   ]
  },
  {
   "cell_type": "code",
   "execution_count": 4,
   "id": "ec77cace-7a30-4e0d-845d-4003c446b3d8",
   "metadata": {},
   "outputs": [
    {
     "name": "stdout",
     "output_type": "stream",
     "text": [
      "Enter The Number:  12\n"
     ]
    },
    {
     "name": "stdout",
     "output_type": "stream",
     "text": [
      "Entered Number Is Positive\n"
     ]
    }
   ],
   "source": [
    "num = float(input(\"Enter The Number: \"))\n",
    "\n",
    "#Check whether given number is equal to zero.\n",
    "if(num == 0):\n",
    "    print(\"Entered Number Is Equal To Zero\")\n",
    "\n",
    "#If Number is not equals to zero,Check whether number is greater then zero.\n",
    "elif(num > 0):\n",
    "    print(\"Entered Number Is Positive\")\n",
    "#Number is neither equals to zero nor greater then zero.    \n",
    "else:\n",
    "    print(\"Entered Number Is Negative\")"
   ]
  },
  {
   "cell_type": "markdown",
   "id": "d191a52b-7e11-481d-8359-ec506d047fcd",
   "metadata": {},
   "source": [
    "## Write a program to check whether a given integer is even or odd."
   ]
  },
  {
   "cell_type": "code",
   "execution_count": 2,
   "id": "02cb1360-ad6a-41cb-a7be-096105f95c51",
   "metadata": {},
   "outputs": [
    {
     "name": "stdout",
     "output_type": "stream",
     "text": [
      "Enter an integer:  11\n"
     ]
    },
    {
     "name": "stdout",
     "output_type": "stream",
     "text": [
      "11 is Odd Number.\n"
     ]
    }
   ],
   "source": [
    "num = int(input(\"Enter an integer: \"))\n",
    "\n",
    "# Check num divisible by 2 or not\n",
    "if num % 2 == 0:\n",
    "    print(f\"{num} is Even Number.\")\n",
    "# If the above condition is false, then the number must be odd\n",
    "else:\n",
    "    print(f\"{num} is Odd Number.\")"
   ]
  },
  {
   "cell_type": "markdown",
   "id": "98397f20-f319-4155-9018-88913de737f4",
   "metadata": {},
   "source": [
    "## Write a program to input two numbers and print which one is larger."
   ]
  },
  {
   "cell_type": "code",
   "execution_count": 3,
   "id": "e8b550d1-75b8-4b4b-9446-4bfe506e6b7c",
   "metadata": {},
   "outputs": [
    {
     "name": "stdout",
     "output_type": "stream",
     "text": [
      "Enter the first number:  12\n",
      "Enter the second number:  12\n"
     ]
    },
    {
     "name": "stdout",
     "output_type": "stream",
     "text": [
      "Both numbers are equal\n"
     ]
    }
   ],
   "source": [
    "num1 = int(input(\"Enter the first number: \"))\n",
    "num2 = int(input(\"Enter the second number: \"))\n",
    "\n",
    "# Compare the two numbers using if-else statement\n",
    "if num1 > num2:\n",
    "    # If first number is greater than second number\n",
    "    print(f\"{num1} is larger than {num2}\")\n",
    "elif num2 > num1:\n",
    "    # If second number is greater than first number\n",
    "    print(f\"{num2} is larger than {num1}\")\n",
    "else:\n",
    "    # If both numbers are equal\n",
    "    print(\"Both numbers are equal\")"
   ]
  },
  {
   "cell_type": "markdown",
   "id": "43ecd503-b933-4544-93b0-7763c4b2edec",
   "metadata": {},
   "source": [
    "## Write a program to find the absolute value of a given number without using the abs() function.  "
   ]
  },
  {
   "cell_type": "code",
   "execution_count": 4,
   "id": "355f4f8f-ebb1-46cc-96d8-e19dbe57aa56",
   "metadata": {},
   "outputs": [
    {
     "name": "stdout",
     "output_type": "stream",
     "text": [
      "Enter a number:  -12\n"
     ]
    },
    {
     "name": "stdout",
     "output_type": "stream",
     "text": [
      "The absolute value of -12 is 12\n"
     ]
    }
   ],
   "source": [
    "num = int(input(\"Enter a number: \"))\n",
    "\n",
    "# Check if the number is negative\n",
    "if num < 0:\n",
    "    # If the number is negative then multiply by -1 to make it positive\n",
    "    absolute_value = -num\n",
    "else:\n",
    "    # If the number is already positive or zero just do nothing\n",
    "    absolute_value = num\n",
    "\n",
    "print(f\"The absolute value of {num} is {absolute_value}\")"
   ]
  },
  {
   "cell_type": "markdown",
   "id": "60cf0ea0-3686-4f6b-b1bb-6f60163eb86d",
   "metadata": {},
   "source": [
    "## Write a program to check whether a person is eligible to vote or not. (A person is eligible if their age is 18 or above). "
   ]
  },
  {
   "cell_type": "code",
   "execution_count": 5,
   "id": "090cc40e-6324-4f2b-b374-eb50376a3cf1",
   "metadata": {},
   "outputs": [
    {
     "name": "stdout",
     "output_type": "stream",
     "text": [
      "Enter your age:  14\n"
     ]
    },
    {
     "name": "stdout",
     "output_type": "stream",
     "text": [
      "You are not eligible to vote. You must be at least 18 years old.\n"
     ]
    }
   ],
   "source": [
    "age = int(input(\"Enter your age: \"))\n",
    "\n",
    "# Check age of a person is greater than or equal to 18\n",
    "if age >= 18:\n",
    "    # If condition is true, the person is eligible to vote\n",
    "    print(\"You are eligible to vote.\")\n",
    "else:\n",
    "    # If condition is false, the person is not eligible to vote\n",
    "    print(\"You are not eligible to vote. You must be at least 18 years old.\")\n"
   ]
  },
  {
   "cell_type": "markdown",
   "id": "06761051-c635-40db-a308-3eb221449529",
   "metadata": {},
   "source": [
    "## Write a program to check whether a given year is a leap year or not. (Hint: A leap year is divisible by 4, but not by 100 unless also divisible by 400)."
   ]
  },
  {
   "cell_type": "code",
   "execution_count": 10,
   "id": "732c998f-3936-4015-b0d3-c7c39eb50426",
   "metadata": {},
   "outputs": [
    {
     "name": "stdout",
     "output_type": "stream",
     "text": [
      "Enter a year:  2025\n"
     ]
    },
    {
     "name": "stdout",
     "output_type": "stream",
     "text": [
      "2025 is not a Leap Year.\n"
     ]
    }
   ],
   "source": [
    "year = int(input(\"Enter a year: \"))\n",
    "\n",
    "if year % 400 == 0:\n",
    "    # If divisible by 400 means it's Leap year\n",
    "    print(f\"{year} is a Leap Year.\")\n",
    "elif year % 100 == 0:\n",
    "    # If divisible by 100 but not by 400 then it means not a leap year\n",
    "    print(f\"{year} is not a Leap Year.\")\n",
    "elif year % 4 == 0:\n",
    "    # If divisible by 4 but not by 100 means it's Leap year\n",
    "    print(f\"{year} is a Leap Year.\")\n",
    "else:\n",
    "    # All other years the not a leap year\n",
    "    print(f\"{year} is not a Leap Year.\")"
   ]
  },
  {
   "cell_type": "markdown",
   "id": "0f4a963e-e7ee-4a23-88d7-7caa1a83610c",
   "metadata": {},
   "source": [
    "## Write a program that takes marks as input and prints:  - 'Pass' if marks are 40 or above  - 'Fail' if marks are less than 40."
   ]
  },
  {
   "cell_type": "code",
   "execution_count": 12,
   "id": "87228bad-3b2b-4049-8605-c7dea05288b7",
   "metadata": {},
   "outputs": [
    {
     "name": "stdout",
     "output_type": "stream",
     "text": [
      "Enter your marks:  80\n"
     ]
    },
    {
     "name": "stdout",
     "output_type": "stream",
     "text": [
      "Pass\n"
     ]
    }
   ],
   "source": [
    "marks = int(input(\"Enter your marks: \"))\n",
    "\n",
    "# Check if marks are 40 or above\n",
    "if marks >= 40:\n",
    "    # If condition is true then student passes\n",
    "    print(\"Pass\")\n",
    "else:\n",
    "    # If condition is false than student fails\n",
    "    print(\"Fail\")"
   ]
  },
  {
   "cell_type": "markdown",
   "id": "f2c42d32-057b-4a59-bf21-52e0a04d7452",
   "metadata": {},
   "source": [
    "## Write a program to check whether a given number is a multiple of 5."
   ]
  },
  {
   "cell_type": "code",
   "execution_count": 13,
   "id": "f687aaed-f7cb-437b-a24a-d2b73e886221",
   "metadata": {},
   "outputs": [
    {
     "name": "stdout",
     "output_type": "stream",
     "text": [
      "Enter a number:  55\n"
     ]
    },
    {
     "name": "stdout",
     "output_type": "stream",
     "text": [
      "55 is a multiple of 5.\n"
     ]
    }
   ],
   "source": [
    "num = int(input(\"Enter a number: \"))\n",
    "\n",
    "# A number is a multiple of 5 if the remainder is 0 when divided by 5\n",
    "if num % 5 == 0:\n",
    "    # If condition is true than number is multiple of 5\n",
    "    print(f\"{num} is a multiple of 5.\")\n",
    "else:\n",
    "    # If condition is false than number is not multiple of 5\n",
    "    print(f\"{num} is NOT a multiple of 5.\")"
   ]
  },
  {
   "cell_type": "markdown",
   "id": "85509121-c169-4c12-8e00-a5e9ab5920f5",
   "metadata": {},
   "source": [
    "## Write a program to input a character and check whether it is an uppercase letter, lowercase letter, or not a letter."
   ]
  },
  {
   "cell_type": "code",
   "execution_count": 15,
   "id": "b0c10521-e6c2-49b6-81fa-06e221fca255",
   "metadata": {},
   "outputs": [
    {
     "name": "stdout",
     "output_type": "stream",
     "text": [
      "Enter a character:  K\n"
     ]
    },
    {
     "name": "stdout",
     "output_type": "stream",
     "text": [
      "K is an uppercase letter.\n"
     ]
    }
   ],
   "source": [
    "char = input(\"Enter a character: \")\n",
    "\n",
    "# Checking only one character is entered or not\n",
    "if len(char) != 1:\n",
    "    print(\"Please enter only one character.\")\n",
    "else:\n",
    "    # Check if the character is an uppercase letter\n",
    "    if char >= 'A' and char <= 'Z':\n",
    "        print(f\"{char} is an uppercase letter.\")\n",
    "\n",
    "    # Check if the character is a lowercase letter\n",
    "    elif char >= 'a' and char <= 'z':\n",
    "        print(f\"{char} is a lowercase letter.\")\n",
    "\n",
    "    # If not in A-Z or a-z then it is not a letter\n",
    "    else:\n",
    "        print(f\"{char} is not a Letter.\")\n"
   ]
  },
  {
   "cell_type": "markdown",
   "id": "35814b8d-d3c5-43c1-9b30-7d9ebe4eecf4",
   "metadata": {},
   "source": [
    "## Write a program that calculates the discount:  If purchase amount is greater than or equal to 1000, apply a 10% discount. - Otherwise, no discount. Finally, print the final bill amount."
   ]
  },
  {
   "cell_type": "code",
   "execution_count": 18,
   "id": "f50c6665-4d4f-40d4-842f-b3e3a5261dcf",
   "metadata": {},
   "outputs": [
    {
     "name": "stdout",
     "output_type": "stream",
     "text": [
      "Enter the purchase amount:  1552\n"
     ]
    },
    {
     "name": "stdout",
     "output_type": "stream",
     "text": [
      "Purchase amount = 1552.0\n",
      "10% discount applied\n",
      "Final bill amount = 1396.8\n"
     ]
    }
   ],
   "source": [
    "purchase_amount = float(input(\"Enter the purchase amount: \"))\n",
    "\n",
    "# Check purchase amount is greater than or equal to 1000 or not\n",
    "if purchase_amount >= 1000:\n",
    "    # Apply 10% discount\n",
    "    discount = 0.10 * purchase_amount\n",
    "    final_amount = purchase_amount - discount\n",
    "    print(f\"Purchase amount = {purchase_amount}\")\n",
    "    print(\"10% discount applied\")\n",
    "    print(f\"Final bill amount = {final_amount}\")\n",
    "else:\n",
    "    # No discount is applied\n",
    "    final_amount = purchase_amount\n",
    "    print(f\"Purchase amount = {purchase_amount}\")\n",
    "    print(\"No discount applied.\")\n",
    "    print(f\"Final bill amount = {final_amount}\")"
   ]
  }
 ],
 "metadata": {
  "kernelspec": {
   "display_name": "Python [conda env:base] *",
   "language": "python",
   "name": "conda-base-py"
  },
  "language_info": {
   "codemirror_mode": {
    "name": "ipython",
    "version": 3
   },
   "file_extension": ".py",
   "mimetype": "text/x-python",
   "name": "python",
   "nbconvert_exporter": "python",
   "pygments_lexer": "ipython3",
   "version": "3.13.5"
  }
 },
 "nbformat": 4,
 "nbformat_minor": 5
}
